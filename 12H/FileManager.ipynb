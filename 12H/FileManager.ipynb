{
 "cells": [
  {
   "cell_type": "code",
   "execution_count": 8,
   "outputs": [],
   "source": [
    "import pandas as pd"
   ],
   "metadata": {
    "collapsed": false,
    "pycharm": {
     "name": "#%%\n"
    }
   }
  },
  {
   "cell_type": "code",
   "execution_count": 9,
   "outputs": [
    {
     "name": "stdout",
     "output_type": "stream",
     "text": [
      "12245\n",
      "        <OPEN>   <HIGH>    <LOW>  <CLOSE>\n",
      "0      1.00730  1.01900  1.00730  1.01150\n",
      "1      1.01180  1.02780  1.00540  1.02460\n",
      "2      1.02430  1.02790  1.02130  1.02760\n",
      "3      1.02740  1.03400  1.02630  1.02920\n",
      "4      1.02930  1.04020  1.02840  1.03700\n",
      "...        ...      ...      ...      ...\n",
      "12240  1.12321  1.12402  1.11744  1.11986\n",
      "12241  1.11991  1.12290  1.11941  1.12086\n",
      "12242  1.12086  1.12167  1.11185  1.11290\n",
      "12243  1.11291  1.11449  1.11216  1.11283\n",
      "12244  1.11283  1.11381  1.11080  1.11246\n",
      "\n",
      "[12245 rows x 4 columns]\n"
     ]
    }
   ],
   "source": [
    "dataset = pd.read_table('EURUSD_H12_200001030000_202307211200.csv', delimiter='\\t')\n",
    "dataset = dataset.iloc[:, 2:6]\n",
    "print(len(dataset))\n",
    "print(dataset)"
   ],
   "metadata": {
    "collapsed": false,
    "pycharm": {
     "name": "#%%\n"
    }
   }
  },
  {
   "cell_type": "code",
   "execution_count": 10,
   "outputs": [
    {
     "name": "stdout",
     "output_type": "stream",
     "text": [
      "       last open  last high  last low   <OPEN>   <HIGH>    <LOW>  <CLOSE>\n",
      "0            NaN        NaN       NaN  1.00730  1.01900  1.00730  1.01150\n",
      "1        1.00730    1.01900   1.00730  1.01180  1.02780  1.00540  1.02460\n",
      "2        1.01180    1.02780   1.00540  1.02430  1.02790  1.02130  1.02760\n",
      "3        1.02430    1.02790   1.02130  1.02740  1.03400  1.02630  1.02920\n",
      "4        1.02740    1.03400   1.02630  1.02930  1.04020  1.02840  1.03700\n",
      "...          ...        ...       ...      ...      ...      ...      ...\n",
      "12240    1.12263    1.12373   1.11958  1.12321  1.12402  1.11744  1.11986\n",
      "12241    1.12321    1.12402   1.11744  1.11991  1.12290  1.11941  1.12086\n",
      "12242    1.11991    1.12290   1.11941  1.12086  1.12167  1.11185  1.11290\n",
      "12243    1.12086    1.12167   1.11185  1.11291  1.11449  1.11216  1.11283\n",
      "12244    1.11291    1.11449   1.11216  1.11283  1.11381  1.11080  1.11246\n",
      "\n",
      "[12245 rows x 7 columns]\n"
     ]
    }
   ],
   "source": [
    "addingOpen = [None]\n",
    "lastOpen = dataset.iloc[:12244, 0]\n",
    "addingHigh = [None]\n",
    "lastHigh = dataset.iloc[:12244, 1]\n",
    "addingLow = [None]\n",
    "lastLow = dataset.iloc[:12244, 2]\n",
    "for i in range(len(lastOpen)):\n",
    "    addingOpen.append(lastOpen[i])\n",
    "    addingHigh.append(lastHigh[i])\n",
    "    addingLow.append(lastLow[i])\n",
    "dataset.insert(0, \"last low\", addingLow)\n",
    "dataset.insert(0, \"last high\", addingHigh)\n",
    "dataset.insert(0, \"last open\", addingOpen)\n",
    "print(dataset)"
   ],
   "metadata": {
    "collapsed": false,
    "pycharm": {
     "name": "#%%\n"
    }
   }
  },
  {
   "cell_type": "code",
   "execution_count": 11,
   "outputs": [
    {
     "name": "stdout",
     "output_type": "stream",
     "text": [
      "       last open10  last high10  last low10  last open9  last high9  \\\n",
      "0              NaN          NaN         NaN         NaN         NaN   \n",
      "1              NaN          NaN         NaN         NaN         NaN   \n",
      "2              NaN          NaN         NaN         NaN         NaN   \n",
      "3              NaN          NaN         NaN         NaN         NaN   \n",
      "4              NaN          NaN         NaN         NaN         NaN   \n",
      "...            ...          ...         ...         ...         ...   \n",
      "12240      1.10074      1.10369     1.09972     1.10222     1.11404   \n",
      "12241      1.10222      1.11404     1.10136     1.11251     1.11701   \n",
      "12242      1.11251      1.11701     1.11251     1.11610     1.12279   \n",
      "12243      1.11610      1.12279     1.11552     1.12257     1.12429   \n",
      "12244      1.12257      1.12429     1.12028     1.12313     1.12450   \n",
      "\n",
      "       last low9  last open8  last high8  last low8  last open7  ...  \\\n",
      "0            NaN         NaN         NaN        NaN         NaN  ...   \n",
      "1            NaN         NaN         NaN        NaN         NaN  ...   \n",
      "2            NaN         NaN         NaN        NaN         NaN  ...   \n",
      "3            NaN         NaN         NaN        NaN         NaN  ...   \n",
      "4            NaN         NaN         NaN        NaN         NaN  ...   \n",
      "...          ...         ...         ...        ...         ...  ...   \n",
      "12240    1.10136     1.11251     1.11701    1.11251     1.11610  ...   \n",
      "12241    1.11251     1.11610     1.12279    1.11552     1.12257  ...   \n",
      "12242    1.11552     1.12257     1.12429    1.12028     1.12313  ...   \n",
      "12243    1.12028     1.12313     1.12450    1.12099     1.12288  ...   \n",
      "12244    1.12099     1.12288     1.12488    1.12145     1.12380  ...   \n",
      "\n",
      "       last open1  last high1  last low1  last open  last high  last low  \\\n",
      "0             NaN         NaN        NaN        NaN        NaN       NaN   \n",
      "1             NaN         NaN        NaN    1.00730    1.01900   1.00730   \n",
      "2         1.00730     1.01900    1.00730    1.01180    1.02780   1.00540   \n",
      "3         1.01180     1.02780    1.00540    1.02430    1.02790   1.02130   \n",
      "4         1.02430     1.02790    1.02130    1.02740    1.03400   1.02630   \n",
      "...           ...         ...        ...        ...        ...       ...   \n",
      "12240     1.12373     1.12698    1.12089    1.12263    1.12373   1.11958   \n",
      "12241     1.12263     1.12373    1.11958    1.12321    1.12402   1.11744   \n",
      "12242     1.12321     1.12402    1.11744    1.11991    1.12290   1.11941   \n",
      "12243     1.11991     1.12290    1.11941    1.12086    1.12167   1.11185   \n",
      "12244     1.12086     1.12167    1.11185    1.11291    1.11449   1.11216   \n",
      "\n",
      "        <OPEN>   <HIGH>    <LOW>  <CLOSE>  \n",
      "0      1.00730  1.01900  1.00730  1.01150  \n",
      "1      1.01180  1.02780  1.00540  1.02460  \n",
      "2      1.02430  1.02790  1.02130  1.02760  \n",
      "3      1.02740  1.03400  1.02630  1.02920  \n",
      "4      1.02930  1.04020  1.02840  1.03700  \n",
      "...        ...      ...      ...      ...  \n",
      "12240  1.12321  1.12402  1.11744  1.11986  \n",
      "12241  1.11991  1.12290  1.11941  1.12086  \n",
      "12242  1.12086  1.12167  1.11185  1.11290  \n",
      "12243  1.11291  1.11449  1.11216  1.11283  \n",
      "12244  1.11283  1.11381  1.11080  1.11246  \n",
      "\n",
      "[12245 rows x 37 columns]\n"
     ]
    }
   ],
   "source": [
    "for j in range(10):\n",
    "    addingOpen = [None]\n",
    "    lastOpen = dataset.iloc[:12244, 0]\n",
    "    addingHigh = [None]\n",
    "    lastHigh = dataset.iloc[:12244, 1]\n",
    "    addingLow = [None]\n",
    "    lastLow = dataset.iloc[:12244, 2]\n",
    "    for i in range(len(lastOpen)):\n",
    "        addingOpen.append(lastOpen[i])\n",
    "        addingHigh.append(lastHigh[i])\n",
    "        addingLow.append(lastLow[i])\n",
    "    dataset.insert(0, \"last low\" + str(j+1), addingLow)\n",
    "    dataset.insert(0, \"last high\" + str(j+1), addingHigh)\n",
    "    dataset.insert(0, \"last open\" + str(j+1), addingOpen)\n",
    "print(dataset)"
   ],
   "metadata": {
    "collapsed": false,
    "pycharm": {
     "name": "#%%\n"
    }
   }
  },
  {
   "cell_type": "code",
   "execution_count": 12,
   "outputs": [],
   "source": [
    "dataset.to_csv('12H.csv')"
   ],
   "metadata": {
    "collapsed": false,
    "pycharm": {
     "name": "#%%\n"
    }
   }
  }
 ],
 "metadata": {
  "kernelspec": {
   "display_name": "Python 3",
   "language": "python",
   "name": "python3"
  },
  "language_info": {
   "codemirror_mode": {
    "name": "ipython",
    "version": 2
   },
   "file_extension": ".py",
   "mimetype": "text/x-python",
   "name": "python",
   "nbconvert_exporter": "python",
   "pygments_lexer": "ipython2",
   "version": "2.7.6"
  }
 },
 "nbformat": 4,
 "nbformat_minor": 0
}