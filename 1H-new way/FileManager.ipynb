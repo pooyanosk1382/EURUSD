{
 "cells": [
  {
   "cell_type": "code",
   "execution_count": 12,
   "outputs": [],
   "source": [
    "import pandas as pd"
   ],
   "metadata": {
    "collapsed": false,
    "pycharm": {
     "name": "#%%\n"
    }
   }
  },
  {
   "cell_type": "code",
   "execution_count": 13,
   "outputs": [
    {
     "name": "stdout",
     "output_type": "stream",
     "text": [
      "100120\n",
      "         <OPEN>   <HIGH>    <LOW>  <CLOSE>\n",
      "0       1.34320  1.34330  1.34250  1.34270\n",
      "1       1.34280  1.34280  1.34230  1.34230\n",
      "2       1.34220  1.34240  1.34160  1.34160\n",
      "3       1.34170  1.34270  1.34110  1.34250\n",
      "4       1.34260  1.34270  1.34210  1.34250\n",
      "...         ...      ...      ...      ...\n",
      "100115  1.11197  1.11254  1.11156  1.11235\n",
      "100116  1.11235  1.11290  1.11229  1.11260\n",
      "100117  1.11260  1.11303  1.11241  1.11248\n",
      "100118  1.11248  1.11255  1.11192  1.11255\n",
      "100119  1.11254  1.11292  1.11241  1.11246\n",
      "\n",
      "[100120 rows x 4 columns]\n"
     ]
    }
   ],
   "source": [
    "dataset = pd.read_csv('EURUSD_H1_200705250000_202307212300.csv', delimiter='\\t')\n",
    "dataset = dataset.iloc[:, 2:6]\n",
    "print(len(dataset))\n",
    "print(dataset)"
   ],
   "metadata": {
    "collapsed": false,
    "pycharm": {
     "name": "#%%\n"
    }
   }
  },
  {
   "cell_type": "code",
   "execution_count": 14,
   "outputs": [
    {
     "name": "stdout",
     "output_type": "stream",
     "text": [
      "        last open  last high  last low   <OPEN>   <HIGH>    <LOW>  <CLOSE>\n",
      "0             NaN        NaN       NaN  1.34320  1.34330  1.34250  1.34270\n",
      "1         1.34320    1.34330   1.34250  1.34280  1.34280  1.34230  1.34230\n",
      "2         1.34280    1.34280   1.34230  1.34220  1.34240  1.34160  1.34160\n",
      "3         1.34220    1.34240   1.34160  1.34170  1.34270  1.34110  1.34250\n",
      "4         1.34170    1.34270   1.34110  1.34260  1.34270  1.34210  1.34250\n",
      "...           ...        ...       ...      ...      ...      ...      ...\n",
      "100115    1.11132    1.11261   1.11122  1.11197  1.11254  1.11156  1.11235\n",
      "100116    1.11197    1.11254   1.11156  1.11235  1.11290  1.11229  1.11260\n",
      "100117    1.11235    1.11290   1.11229  1.11260  1.11303  1.11241  1.11248\n",
      "100118    1.11260    1.11303   1.11241  1.11248  1.11255  1.11192  1.11255\n",
      "100119    1.11248    1.11255   1.11192  1.11254  1.11292  1.11241  1.11246\n",
      "\n",
      "[100120 rows x 7 columns]\n"
     ]
    }
   ],
   "source": [
    "addingOpen = [None]\n",
    "lastOpen = dataset.iloc[:100119, 0]\n",
    "addingHigh = [None]\n",
    "lastHigh = dataset.iloc[:100119, 1]\n",
    "addingLow = [None]\n",
    "lastLow = dataset.iloc[:100119, 2]\n",
    "for i in range(len(lastOpen)):\n",
    "    addingOpen.append(lastOpen[i])\n",
    "    addingHigh.append(lastHigh[i])\n",
    "    addingLow.append(lastLow[i])\n",
    "dataset.insert(0, \"last low\", addingLow)\n",
    "dataset.insert(0, \"last high\", addingHigh)\n",
    "dataset.insert(0, \"last open\", addingOpen)\n",
    "print(dataset)"
   ],
   "metadata": {
    "collapsed": false,
    "pycharm": {
     "name": "#%%\n"
    }
   }
  },
  {
   "cell_type": "code",
   "execution_count": 15,
   "outputs": [
    {
     "name": "stdout",
     "output_type": "stream",
     "text": [
      "        last open10  last high10  last low10  last open9  last high9  \\\n",
      "0               NaN          NaN         NaN         NaN         NaN   \n",
      "1               NaN          NaN         NaN         NaN         NaN   \n",
      "2               NaN          NaN         NaN         NaN         NaN   \n",
      "3               NaN          NaN         NaN         NaN         NaN   \n",
      "4               NaN          NaN         NaN         NaN         NaN   \n",
      "...             ...          ...         ...         ...         ...   \n",
      "100115      1.11396      1.11438     1.11338     1.11432     1.11449   \n",
      "100116      1.11432      1.11449     1.11355     1.11430     1.11447   \n",
      "100117      1.11430      1.11447     1.11250     1.11280     1.11377   \n",
      "100118      1.11280      1.11377     1.11216     1.11283     1.11321   \n",
      "100119      1.11283      1.11321     1.11220     1.11280     1.11292   \n",
      "\n",
      "        last low9  last open8  last high8  last low8  last open7  ...  \\\n",
      "0             NaN         NaN         NaN        NaN         NaN  ...   \n",
      "1             NaN         NaN         NaN        NaN         NaN  ...   \n",
      "2             NaN         NaN         NaN        NaN         NaN  ...   \n",
      "3             NaN         NaN         NaN        NaN         NaN  ...   \n",
      "4             NaN         NaN         NaN        NaN         NaN  ...   \n",
      "...           ...         ...         ...        ...         ...  ...   \n",
      "100115    1.11355     1.11430     1.11447    1.11250     1.11280  ...   \n",
      "100116    1.11250     1.11280     1.11377    1.11216     1.11283  ...   \n",
      "100117    1.11216     1.11283     1.11321    1.11220     1.11280  ...   \n",
      "100118    1.11220     1.11280     1.11292    1.11202     1.11255  ...   \n",
      "100119    1.11202     1.11255     1.11314    1.11173     1.11184  ...   \n",
      "\n",
      "        last open1  last high1  last low1  last open  last high  last low  \\\n",
      "0              NaN         NaN        NaN        NaN        NaN       NaN   \n",
      "1              NaN         NaN        NaN    1.34320    1.34330   1.34250   \n",
      "2          1.34320     1.34330    1.34250    1.34280    1.34280   1.34230   \n",
      "3          1.34280     1.34280    1.34230    1.34220    1.34240   1.34160   \n",
      "4          1.34220     1.34240    1.34160    1.34170    1.34270   1.34110   \n",
      "...            ...         ...        ...        ...        ...       ...   \n",
      "100115     1.11187     1.11188    1.11080    1.11132    1.11261   1.11122   \n",
      "100116     1.11132     1.11261    1.11122    1.11197    1.11254   1.11156   \n",
      "100117     1.11197     1.11254    1.11156    1.11235    1.11290   1.11229   \n",
      "100118     1.11235     1.11290    1.11229    1.11260    1.11303   1.11241   \n",
      "100119     1.11260     1.11303    1.11241    1.11248    1.11255   1.11192   \n",
      "\n",
      "         <OPEN>   <HIGH>    <LOW>  <CLOSE>  \n",
      "0       1.34320  1.34330  1.34250  1.34270  \n",
      "1       1.34280  1.34280  1.34230  1.34230  \n",
      "2       1.34220  1.34240  1.34160  1.34160  \n",
      "3       1.34170  1.34270  1.34110  1.34250  \n",
      "4       1.34260  1.34270  1.34210  1.34250  \n",
      "...         ...      ...      ...      ...  \n",
      "100115  1.11197  1.11254  1.11156  1.11235  \n",
      "100116  1.11235  1.11290  1.11229  1.11260  \n",
      "100117  1.11260  1.11303  1.11241  1.11248  \n",
      "100118  1.11248  1.11255  1.11192  1.11255  \n",
      "100119  1.11254  1.11292  1.11241  1.11246  \n",
      "\n",
      "[100120 rows x 37 columns]\n"
     ]
    }
   ],
   "source": [
    "for j in range(10):\n",
    "    addingOpen = [None]\n",
    "    lastOpen = dataset.iloc[:100119, 0]\n",
    "    addingHigh = [None]\n",
    "    lastHigh = dataset.iloc[:100119, 1]\n",
    "    addingLow = [None]\n",
    "    lastLow = dataset.iloc[:100119, 2]\n",
    "    for i in range(len(lastOpen)):\n",
    "        addingOpen.append(lastOpen[i])\n",
    "        addingHigh.append(lastHigh[i])\n",
    "        addingLow.append(lastLow[i])\n",
    "    dataset.insert(0, \"last low\" + str(j+1), addingLow)\n",
    "    dataset.insert(0, \"last high\" + str(j+1), addingHigh)\n",
    "    dataset.insert(0, \"last open\" + str(j+1), addingOpen)\n",
    "print(dataset)"
   ],
   "metadata": {
    "collapsed": false,
    "pycharm": {
     "name": "#%%\n"
    }
   }
  },
  {
   "cell_type": "code",
   "execution_count": 16,
   "outputs": [],
   "source": [
    "dataset.to_csv('1H.csv')"
   ],
   "metadata": {
    "collapsed": false,
    "pycharm": {
     "name": "#%%\n"
    }
   }
  }
 ],
 "metadata": {
  "kernelspec": {
   "display_name": "Python 3",
   "language": "python",
   "name": "python3"
  },
  "language_info": {
   "codemirror_mode": {
    "name": "ipython",
    "version": 2
   },
   "file_extension": ".py",
   "mimetype": "text/x-python",
   "name": "python",
   "nbconvert_exporter": "python",
   "pygments_lexer": "ipython2",
   "version": "2.7.6"
  }
 },
 "nbformat": 4,
 "nbformat_minor": 0
}