{
 "cells": [
  {
   "cell_type": "code",
   "execution_count": 1,
   "outputs": [],
   "source": [
    "import pandas as pd"
   ],
   "metadata": {
    "collapsed": false,
    "pycharm": {
     "name": "#%%\n"
    }
   }
  },
  {
   "cell_type": "code",
   "execution_count": 3,
   "outputs": [
    {
     "name": "stdout",
     "output_type": "stream",
     "text": [
      "24470\n",
      "        <OPEN>   <HIGH>    <LOW>  <CLOSE>\n",
      "0      1.00730  1.01900  1.00730  1.01690\n",
      "1      1.01710  1.01810  1.00930  1.01150\n",
      "2      1.01180  1.01760  1.00540  1.01560\n",
      "3      1.01550  1.02780  1.01500  1.02460\n",
      "4      1.02430  1.02660  1.02330  1.02430\n",
      "...        ...      ...      ...      ...\n",
      "24465  1.11471  1.11525  1.11185  1.11290\n",
      "24466  1.11291  1.11417  1.11234  1.11395\n",
      "24467  1.11395  1.11449  1.11216  1.11283\n",
      "24468  1.11283  1.11381  1.11080  1.11134\n",
      "24469  1.11132  1.11303  1.11122  1.11246\n",
      "\n",
      "[24470 rows x 4 columns]\n"
     ]
    }
   ],
   "source": [
    "dataset = pd.read_table('EURUSD_H6_200001030000_202307211800.csv', delimiter='\\t')\n",
    "dataset = dataset.iloc[:, 2:6]\n",
    "print(len(dataset))\n",
    "print(dataset)"
   ],
   "metadata": {
    "collapsed": false,
    "pycharm": {
     "name": "#%%\n"
    }
   }
  },
  {
   "cell_type": "code",
   "execution_count": 5,
   "outputs": [
    {
     "name": "stdout",
     "output_type": "stream",
     "text": [
      "       last open  last high  last low   <OPEN>   <HIGH>    <LOW>  <CLOSE>\n",
      "0            NaN        NaN       NaN  1.00730  1.01900  1.00730  1.01690\n",
      "1        1.00730    1.01900   1.00730  1.01710  1.01810  1.00930  1.01150\n",
      "2        1.01710    1.01810   1.00930  1.01180  1.01760  1.00540  1.01560\n",
      "3        1.01180    1.01760   1.00540  1.01550  1.02780  1.01500  1.02460\n",
      "4        1.01550    1.02780   1.01500  1.02430  1.02660  1.02330  1.02430\n",
      "...          ...        ...       ...      ...      ...      ...      ...\n",
      "24465    1.12086    1.12167   1.11406  1.11471  1.11525  1.11185  1.11290\n",
      "24466    1.11471    1.11525   1.11185  1.11291  1.11417  1.11234  1.11395\n",
      "24467    1.11291    1.11417   1.11234  1.11395  1.11449  1.11216  1.11283\n",
      "24468    1.11395    1.11449   1.11216  1.11283  1.11381  1.11080  1.11134\n",
      "24469    1.11283    1.11381   1.11080  1.11132  1.11303  1.11122  1.11246\n",
      "\n",
      "[24470 rows x 7 columns]\n"
     ]
    }
   ],
   "source": [
    "addingOpen = [None]\n",
    "lastOpen = dataset.iloc[:24469, 0]\n",
    "addingHigh = [None]\n",
    "lastHigh = dataset.iloc[:24469, 1]\n",
    "addingLow = [None]\n",
    "lastLow = dataset.iloc[:24469, 2]\n",
    "for i in range(len(lastOpen)):\n",
    "    addingOpen.append(lastOpen[i])\n",
    "    addingHigh.append(lastHigh[i])\n",
    "    addingLow.append(lastLow[i])\n",
    "dataset.insert(0, \"last low\", addingLow)\n",
    "dataset.insert(0, \"last high\", addingHigh)\n",
    "dataset.insert(0, \"last open\", addingOpen)\n",
    "print(dataset)"
   ],
   "metadata": {
    "collapsed": false,
    "pycharm": {
     "name": "#%%\n"
    }
   }
  },
  {
   "cell_type": "code",
   "execution_count": 7,
   "outputs": [
    {
     "name": "stdout",
     "output_type": "stream",
     "text": [
      "       last open10  last high10  last low10  last open9  last high9  \\\n",
      "0              NaN          NaN         NaN         NaN         NaN   \n",
      "1              NaN          NaN         NaN         NaN         NaN   \n",
      "2              NaN          NaN         NaN         NaN         NaN   \n",
      "3              NaN          NaN         NaN         NaN         NaN   \n",
      "4              NaN          NaN         NaN         NaN         NaN   \n",
      "...            ...          ...         ...         ...         ...   \n",
      "24465      1.12314      1.12558     1.12308     1.12476     1.12758   \n",
      "24466      1.12476      1.12758     1.12281     1.12373     1.12698   \n",
      "24467      1.12373      1.12698     1.12168     1.12370     1.12455   \n",
      "24468      1.12370      1.12455     1.12089     1.12263     1.12327   \n",
      "24469      1.12263      1.12327     1.12163     1.12217     1.12373   \n",
      "\n",
      "       last low9  last open8  last high8  last low8  last open7  ...  \\\n",
      "0            NaN         NaN         NaN        NaN         NaN  ...   \n",
      "1            NaN         NaN         NaN        NaN         NaN  ...   \n",
      "2            NaN         NaN         NaN        NaN         NaN  ...   \n",
      "3            NaN         NaN         NaN        NaN         NaN  ...   \n",
      "4            NaN         NaN         NaN        NaN         NaN  ...   \n",
      "...          ...         ...         ...        ...         ...  ...   \n",
      "24465    1.12281     1.12373     1.12698    1.12168     1.12370  ...   \n",
      "24466    1.12168     1.12370     1.12455    1.12089     1.12263  ...   \n",
      "24467    1.12089     1.12263     1.12327    1.12163     1.12217  ...   \n",
      "24468    1.12163     1.12217     1.12373    1.11958     1.12321  ...   \n",
      "24469    1.11958     1.12321     1.12402    1.11744     1.11908  ...   \n",
      "\n",
      "       last open1  last high1  last low1  last open  last high  last low  \\\n",
      "0             NaN         NaN        NaN        NaN        NaN       NaN   \n",
      "1             NaN         NaN        NaN    1.00730    1.01900   1.00730   \n",
      "2         1.00730     1.01900    1.00730    1.01710    1.01810   1.00930   \n",
      "3         1.01710     1.01810    1.00930    1.01180    1.01760   1.00540   \n",
      "4         1.01180     1.01760    1.00540    1.01550    1.02780   1.01500   \n",
      "...           ...         ...        ...        ...        ...       ...   \n",
      "24465     1.12250     1.12272    1.11981    1.12086    1.12167   1.11406   \n",
      "24466     1.12086     1.12167    1.11406    1.11471    1.11525   1.11185   \n",
      "24467     1.11471     1.11525    1.11185    1.11291    1.11417   1.11234   \n",
      "24468     1.11291     1.11417    1.11234    1.11395    1.11449   1.11216   \n",
      "24469     1.11395     1.11449    1.11216    1.11283    1.11381   1.11080   \n",
      "\n",
      "        <OPEN>   <HIGH>    <LOW>  <CLOSE>  \n",
      "0      1.00730  1.01900  1.00730  1.01690  \n",
      "1      1.01710  1.01810  1.00930  1.01150  \n",
      "2      1.01180  1.01760  1.00540  1.01560  \n",
      "3      1.01550  1.02780  1.01500  1.02460  \n",
      "4      1.02430  1.02660  1.02330  1.02430  \n",
      "...        ...      ...      ...      ...  \n",
      "24465  1.11471  1.11525  1.11185  1.11290  \n",
      "24466  1.11291  1.11417  1.11234  1.11395  \n",
      "24467  1.11395  1.11449  1.11216  1.11283  \n",
      "24468  1.11283  1.11381  1.11080  1.11134  \n",
      "24469  1.11132  1.11303  1.11122  1.11246  \n",
      "\n",
      "[24470 rows x 37 columns]\n"
     ]
    }
   ],
   "source": [
    "for j in range(10):\n",
    "    addingOpen = [None]\n",
    "    lastOpen = dataset.iloc[:24469, 0]\n",
    "    addingHigh = [None]\n",
    "    lastHigh = dataset.iloc[:24469, 1]\n",
    "    addingLow = [None]\n",
    "    lastLow = dataset.iloc[:24469, 2]\n",
    "    for i in range(len(lastOpen)):\n",
    "        addingOpen.append(lastOpen[i])\n",
    "        addingHigh.append(lastHigh[i])\n",
    "        addingLow.append(lastLow[i])\n",
    "    dataset.insert(0, \"last low\" + str(j+1), addingLow)\n",
    "    dataset.insert(0, \"last high\" + str(j+1), addingHigh)\n",
    "    dataset.insert(0, \"last open\" + str(j+1), addingOpen)\n",
    "print(dataset)"
   ],
   "metadata": {
    "collapsed": false,
    "pycharm": {
     "name": "#%%\n"
    }
   }
  },
  {
   "cell_type": "code",
   "execution_count": 8,
   "outputs": [],
   "source": [
    "dataset.to_csv('6H.csv')"
   ],
   "metadata": {
    "collapsed": false,
    "pycharm": {
     "name": "#%%\n"
    }
   }
  }
 ],
 "metadata": {
  "kernelspec": {
   "display_name": "Python 3",
   "language": "python",
   "name": "python3"
  },
  "language_info": {
   "codemirror_mode": {
    "name": "ipython",
    "version": 2
   },
   "file_extension": ".py",
   "mimetype": "text/x-python",
   "name": "python",
   "nbconvert_exporter": "python",
   "pygments_lexer": "ipython2",
   "version": "2.7.6"
  }
 },
 "nbformat": 4,
 "nbformat_minor": 0
}