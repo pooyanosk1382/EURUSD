{
 "cells": [
  {
   "cell_type": "code",
   "execution_count": 4,
   "outputs": [],
   "source": [
    "import pandas as pd"
   ],
   "metadata": {
    "collapsed": false,
    "pycharm": {
     "name": "#%%\n"
    }
   }
  },
  {
   "cell_type": "code",
   "execution_count": 5,
   "outputs": [
    {
     "name": "stdout",
     "output_type": "stream",
     "text": [
      "100120\n",
      "         <OPEN>   <HIGH>    <LOW>  <CLOSE>\n",
      "0       1.34320  1.34330  1.34250  1.34270\n",
      "1       1.34280  1.34280  1.34230  1.34230\n",
      "2       1.34220  1.34240  1.34160  1.34160\n",
      "3       1.34170  1.34270  1.34110  1.34250\n",
      "4       1.34260  1.34270  1.34210  1.34250\n",
      "...         ...      ...      ...      ...\n",
      "100115  1.11197  1.11254  1.11156  1.11235\n",
      "100116  1.11235  1.11290  1.11229  1.11260\n",
      "100117  1.11260  1.11303  1.11241  1.11248\n",
      "100118  1.11248  1.11255  1.11192  1.11255\n",
      "100119  1.11254  1.11292  1.11241  1.11246\n",
      "\n",
      "[100120 rows x 4 columns]\n"
     ]
    }
   ],
   "source": [
    "dataset = pd.read_table('EURUSD_H1_200705250000_202307212300.csv', delimiter='\\t')\n",
    "dataset = dataset.iloc[:, 2:6]\n",
    "print(len(dataset))\n",
    "print(dataset)"
   ],
   "metadata": {
    "collapsed": false,
    "pycharm": {
     "name": "#%%\n"
    }
   }
  },
  {
   "cell_type": "code",
   "execution_count": 6,
   "outputs": [
    {
     "name": "stdout",
     "output_type": "stream",
     "text": [
      "        last open  last high  last low   <OPEN>   <HIGH>    <LOW>  <CLOSE>\n",
      "0             NaN        NaN       NaN  1.34320  1.34330  1.34250  1.34270\n",
      "1         1.34320    1.34330   1.34250  1.34280  1.34280  1.34230  1.34230\n",
      "2         1.34280    1.34280   1.34230  1.34220  1.34240  1.34160  1.34160\n",
      "3         1.34220    1.34240   1.34160  1.34170  1.34270  1.34110  1.34250\n",
      "4         1.34170    1.34270   1.34110  1.34260  1.34270  1.34210  1.34250\n",
      "...           ...        ...       ...      ...      ...      ...      ...\n",
      "100115    1.11132    1.11261   1.11122  1.11197  1.11254  1.11156  1.11235\n",
      "100116    1.11197    1.11254   1.11156  1.11235  1.11290  1.11229  1.11260\n",
      "100117    1.11235    1.11290   1.11229  1.11260  1.11303  1.11241  1.11248\n",
      "100118    1.11260    1.11303   1.11241  1.11248  1.11255  1.11192  1.11255\n",
      "100119    1.11248    1.11255   1.11192  1.11254  1.11292  1.11241  1.11246\n",
      "\n",
      "[100120 rows x 7 columns]\n"
     ]
    }
   ],
   "source": [
    "addingOpen = [None]\n",
    "lastOpen = dataset.iloc[:100119, 0]\n",
    "addingHigh = [None]\n",
    "lastHigh = dataset.iloc[:100119, 1]\n",
    "addingLow = [None]\n",
    "lastLow = dataset.iloc[:100119, 2]\n",
    "for i in range(len(lastOpen)):\n",
    "    addingOpen.append(lastOpen[i])\n",
    "    addingHigh.append(lastHigh[i])\n",
    "    addingLow.append(lastLow[i])\n",
    "dataset.insert(0, \"last low\", addingLow)\n",
    "dataset.insert(0, \"last high\", addingHigh)\n",
    "dataset.insert(0, \"last open\", addingOpen)\n",
    "print(dataset)"
   ],
   "metadata": {
    "collapsed": false,
    "pycharm": {
     "name": "#%%\n"
    }
   }
  },
  {
   "cell_type": "code",
   "execution_count": 7,
   "outputs": [
    {
     "name": "stdout",
     "output_type": "stream",
     "text": [
      "        last open21  last high21  last low21  last open20  last high20  \\\n",
      "0               NaN          NaN         NaN          NaN          NaN   \n",
      "1               NaN          NaN         NaN          NaN          NaN   \n",
      "2               NaN          NaN         NaN          NaN          NaN   \n",
      "3               NaN          NaN         NaN          NaN          NaN   \n",
      "4               NaN          NaN         NaN          NaN          NaN   \n",
      "...             ...          ...         ...          ...          ...   \n",
      "100115      1.11304      1.11307     1.11235      1.11263      1.11334   \n",
      "100116      1.11263      1.11334     1.11260      1.11320      1.11322   \n",
      "100117      1.11320      1.11322     1.11283      1.11291      1.11343   \n",
      "100118      1.11291      1.11343     1.11234      1.11342      1.11365   \n",
      "100119      1.11342      1.11365     1.11310      1.11347      1.11380   \n",
      "\n",
      "        last low20  last open19  last high19  last low19  last open18  ...  \\\n",
      "0              NaN          NaN          NaN         NaN          NaN  ...   \n",
      "1              NaN          NaN          NaN         NaN          NaN  ...   \n",
      "2              NaN          NaN          NaN         NaN          NaN  ...   \n",
      "3              NaN          NaN          NaN         NaN          NaN  ...   \n",
      "4              NaN          NaN          NaN         NaN          NaN  ...   \n",
      "...            ...          ...          ...         ...          ...  ...   \n",
      "100115     1.11260      1.11320      1.11322     1.11283      1.11291  ...   \n",
      "100116     1.11283      1.11291      1.11343     1.11234      1.11342  ...   \n",
      "100117     1.11234      1.11342      1.11365     1.11310      1.11347  ...   \n",
      "100118     1.11310      1.11347      1.11380     1.11334      1.11344  ...   \n",
      "100119     1.11334      1.11344      1.11382     1.11298      1.11374  ...   \n",
      "\n",
      "        last open1  last high1  last low1  last open  last high  last low  \\\n",
      "0              NaN         NaN        NaN        NaN        NaN       NaN   \n",
      "1              NaN         NaN        NaN    1.34320    1.34330   1.34250   \n",
      "2          1.34320     1.34330    1.34250    1.34280    1.34280   1.34230   \n",
      "3          1.34280     1.34280    1.34230    1.34220    1.34240   1.34160   \n",
      "4          1.34220     1.34240    1.34160    1.34170    1.34270   1.34110   \n",
      "...            ...         ...        ...        ...        ...       ...   \n",
      "100115     1.11187     1.11188    1.11080    1.11132    1.11261   1.11122   \n",
      "100116     1.11132     1.11261    1.11122    1.11197    1.11254   1.11156   \n",
      "100117     1.11197     1.11254    1.11156    1.11235    1.11290   1.11229   \n",
      "100118     1.11235     1.11290    1.11229    1.11260    1.11303   1.11241   \n",
      "100119     1.11260     1.11303    1.11241    1.11248    1.11255   1.11192   \n",
      "\n",
      "         <OPEN>   <HIGH>    <LOW>  <CLOSE>  \n",
      "0       1.34320  1.34330  1.34250  1.34270  \n",
      "1       1.34280  1.34280  1.34230  1.34230  \n",
      "2       1.34220  1.34240  1.34160  1.34160  \n",
      "3       1.34170  1.34270  1.34110  1.34250  \n",
      "4       1.34260  1.34270  1.34210  1.34250  \n",
      "...         ...      ...      ...      ...  \n",
      "100115  1.11197  1.11254  1.11156  1.11235  \n",
      "100116  1.11235  1.11290  1.11229  1.11260  \n",
      "100117  1.11260  1.11303  1.11241  1.11248  \n",
      "100118  1.11248  1.11255  1.11192  1.11255  \n",
      "100119  1.11254  1.11292  1.11241  1.11246  \n",
      "\n",
      "[100120 rows x 70 columns]\n"
     ]
    }
   ],
   "source": [
    "for j in range(21):\n",
    "    addingOpen = [None]\n",
    "    lastOpen = dataset.iloc[:100119, 0]\n",
    "    addingHigh = [None]\n",
    "    lastHigh = dataset.iloc[:100119, 1]\n",
    "    addingLow = [None]\n",
    "    lastLow = dataset.iloc[:100119, 2]\n",
    "    for i in range(len(lastOpen)):\n",
    "        addingOpen.append(lastOpen[i])\n",
    "        addingHigh.append(lastHigh[i])\n",
    "        addingLow.append(lastLow[i])\n",
    "    dataset.insert(0, \"last low\" + str(j+1), addingLow)\n",
    "    dataset.insert(0, \"last high\" + str(j+1), addingHigh)\n",
    "    dataset.insert(0, \"last open\" + str(j+1), addingOpen)\n",
    "print(dataset)"
   ],
   "metadata": {
    "collapsed": false,
    "pycharm": {
     "name": "#%%\n"
    }
   }
  },
  {
   "cell_type": "code",
   "execution_count": 8,
   "outputs": [],
   "source": [
    "dataset.to_csv('1H.csv')"
   ],
   "metadata": {
    "collapsed": false,
    "pycharm": {
     "name": "#%%\n"
    }
   }
  }
 ],
 "metadata": {
  "kernelspec": {
   "display_name": "Python 3",
   "language": "python",
   "name": "python3"
  },
  "language_info": {
   "codemirror_mode": {
    "name": "ipython",
    "version": 2
   },
   "file_extension": ".py",
   "mimetype": "text/x-python",
   "name": "python",
   "nbconvert_exporter": "python",
   "pygments_lexer": "ipython2",
   "version": "2.7.6"
  }
 },
 "nbformat": 4,
 "nbformat_minor": 0
}