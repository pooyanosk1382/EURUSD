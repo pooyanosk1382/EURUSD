{
 "cells": [
  {
   "cell_type": "code",
   "execution_count": 4,
   "outputs": [],
   "source": [
    "import pandas as pd"
   ],
   "metadata": {
    "collapsed": false,
    "pycharm": {
     "name": "#%%\n"
    }
   }
  },
  {
   "cell_type": "code",
   "execution_count": 5,
   "outputs": [
    {
     "name": "stdout",
     "output_type": "stream",
     "text": [
      "28860\n",
      "          open     high      low    close\n",
      "0      1.12354  1.12354  1.12166  1.12274\n",
      "1      1.12242  1.12276  1.12067  1.12126\n",
      "2      1.12139  1.12255  1.12030  1.12113\n",
      "3      1.12092  1.12331  1.12049  1.12174\n",
      "4      1.12194  1.12900  1.12130  1.12712\n",
      "...        ...      ...      ...      ...\n",
      "28855  1.15940  1.16120  1.15938  1.16082\n",
      "28856  1.16082  1.16189  1.15995  1.16034\n",
      "28857  1.16033  1.16124  1.15892  1.15923\n",
      "28858  1.15923  1.16103  1.15893  1.15953\n",
      "28859  1.15952  1.16060  1.15933  1.16040\n",
      "\n",
      "[28860 rows x 4 columns]\n"
     ]
    }
   ],
   "source": [
    "dataset = pd.read_csv('EURUSD_ForexTrading_4hrs_05.05.2003_to_16.10.2021.csv')\n",
    "dataset = dataset.iloc[:, :]\n",
    "print(len(dataset))\n",
    "print(dataset)"
   ],
   "metadata": {
    "collapsed": false,
    "pycharm": {
     "name": "#%%\n"
    }
   }
  },
  {
   "cell_type": "code",
   "execution_count": 6,
   "outputs": [
    {
     "name": "stdout",
     "output_type": "stream",
     "text": [
      "       last open  last high  last low     open     high      low    close\n",
      "0            NaN        NaN       NaN  1.12354  1.12354  1.12166  1.12274\n",
      "1        1.12354    1.12354   1.12166  1.12242  1.12276  1.12067  1.12126\n",
      "2        1.12242    1.12276   1.12067  1.12139  1.12255  1.12030  1.12113\n",
      "3        1.12139    1.12255   1.12030  1.12092  1.12331  1.12049  1.12174\n",
      "4        1.12092    1.12331   1.12049  1.12194  1.12900  1.12130  1.12712\n",
      "...          ...        ...       ...      ...      ...      ...      ...\n",
      "28855    1.15979    1.16001   1.15882  1.15940  1.16120  1.15938  1.16082\n",
      "28856    1.15940    1.16120   1.15938  1.16082  1.16189  1.15995  1.16034\n",
      "28857    1.16082    1.16189   1.15995  1.16033  1.16124  1.15892  1.15923\n",
      "28858    1.16033    1.16124   1.15892  1.15923  1.16103  1.15893  1.15953\n",
      "28859    1.15923    1.16103   1.15893  1.15952  1.16060  1.15933  1.16040\n",
      "\n",
      "[28860 rows x 7 columns]\n"
     ]
    }
   ],
   "source": [
    "addingOpen = [None]\n",
    "lastOpen = dataset.iloc[:28859, 0]\n",
    "addingHigh = [None]\n",
    "lastHigh = dataset.iloc[:28859, 1]\n",
    "addingLow = [None]\n",
    "lastLow = dataset.iloc[:28859, 2]\n",
    "for i in range(len(lastOpen)):\n",
    "    addingOpen.append(lastOpen[i])\n",
    "    addingHigh.append(lastHigh[i])\n",
    "    addingLow.append(lastLow[i])\n",
    "dataset.insert(0, \"last low\", addingLow)\n",
    "dataset.insert(0, \"last high\", addingHigh)\n",
    "dataset.insert(0, \"last open\", addingOpen)\n",
    "print(dataset)"
   ],
   "metadata": {
    "collapsed": false,
    "pycharm": {
     "name": "#%%\n"
    }
   }
  },
  {
   "cell_type": "code",
   "execution_count": 7,
   "outputs": [
    {
     "name": "stdout",
     "output_type": "stream",
     "text": [
      "       last open21  last high21  last low21  last open20  last high20  \\\n",
      "0              NaN          NaN         NaN          NaN          NaN   \n",
      "1              NaN          NaN         NaN          NaN          NaN   \n",
      "2              NaN          NaN         NaN          NaN          NaN   \n",
      "3              NaN          NaN         NaN          NaN          NaN   \n",
      "4              NaN          NaN         NaN          NaN          NaN   \n",
      "...            ...          ...         ...          ...          ...   \n",
      "28855      1.15700      1.15742     1.15524      1.15616      1.15839   \n",
      "28856      1.15616      1.15839     1.15613      1.15637      1.15646   \n",
      "28857      1.15637      1.15646     1.15493      1.15599      1.15599   \n",
      "28858      1.15599      1.15599     1.15473      1.15495      1.15610   \n",
      "28859      1.15495      1.15610     1.15479      1.15564      1.15704   \n",
      "\n",
      "       last low20  last open19  last high19  last low19  last open18  ...  \\\n",
      "0             NaN          NaN          NaN         NaN          NaN  ...   \n",
      "1             NaN          NaN          NaN         NaN          NaN  ...   \n",
      "2             NaN          NaN          NaN         NaN          NaN  ...   \n",
      "3             NaN          NaN          NaN         NaN          NaN  ...   \n",
      "4             NaN          NaN          NaN         NaN          NaN  ...   \n",
      "...           ...          ...          ...         ...          ...  ...   \n",
      "28855     1.15613      1.15637      1.15646     1.15493      1.15599  ...   \n",
      "28856     1.15493      1.15599      1.15599     1.15473      1.15495  ...   \n",
      "28857     1.15473      1.15495      1.15610     1.15479      1.15564  ...   \n",
      "28858     1.15479      1.15564      1.15704     1.15555      1.15621  ...   \n",
      "28859     1.15555      1.15621      1.15671     1.15334      1.15419  ...   \n",
      "\n",
      "       last open1  last high1  last low1  last open  last high  last low  \\\n",
      "0             NaN         NaN        NaN        NaN        NaN       NaN   \n",
      "1             NaN         NaN        NaN    1.12354    1.12354   1.12166   \n",
      "2         1.12354     1.12354    1.12166    1.12242    1.12276   1.12067   \n",
      "3         1.12242     1.12276    1.12067    1.12139    1.12255   1.12030   \n",
      "4         1.12139     1.12255    1.12030    1.12092    1.12331   1.12049   \n",
      "...           ...         ...        ...        ...        ...       ...   \n",
      "28855     1.15882     1.16024    1.15847    1.15979    1.16001   1.15882   \n",
      "28856     1.15979     1.16001    1.15882    1.15940    1.16120   1.15938   \n",
      "28857     1.15940     1.16120    1.15938    1.16082    1.16189   1.15995   \n",
      "28858     1.16082     1.16189    1.15995    1.16033    1.16124   1.15892   \n",
      "28859     1.16033     1.16124    1.15892    1.15923    1.16103   1.15893   \n",
      "\n",
      "          open     high      low    close  \n",
      "0      1.12354  1.12354  1.12166  1.12274  \n",
      "1      1.12242  1.12276  1.12067  1.12126  \n",
      "2      1.12139  1.12255  1.12030  1.12113  \n",
      "3      1.12092  1.12331  1.12049  1.12174  \n",
      "4      1.12194  1.12900  1.12130  1.12712  \n",
      "...        ...      ...      ...      ...  \n",
      "28855  1.15940  1.16120  1.15938  1.16082  \n",
      "28856  1.16082  1.16189  1.15995  1.16034  \n",
      "28857  1.16033  1.16124  1.15892  1.15923  \n",
      "28858  1.15923  1.16103  1.15893  1.15953  \n",
      "28859  1.15952  1.16060  1.15933  1.16040  \n",
      "\n",
      "[28860 rows x 70 columns]\n"
     ]
    }
   ],
   "source": [
    "for j in range(21):\n",
    "    addingOpen = [None]\n",
    "    lastOpen = dataset.iloc[:28859, 0]\n",
    "    addingHigh = [None]\n",
    "    lastHigh = dataset.iloc[:28859, 1]\n",
    "    addingLow = [None]\n",
    "    lastLow = dataset.iloc[:28859, 2]\n",
    "    for i in range(len(lastOpen)):\n",
    "        addingOpen.append(lastOpen[i])\n",
    "        addingHigh.append(lastHigh[i])\n",
    "        addingLow.append(lastLow[i])\n",
    "    dataset.insert(0, \"last low\" + str(j+1), addingLow)\n",
    "    dataset.insert(0, \"last high\" + str(j+1), addingHigh)\n",
    "    dataset.insert(0, \"last open\" + str(j+1), addingOpen)\n",
    "print(dataset)"
   ],
   "metadata": {
    "collapsed": false,
    "pycharm": {
     "name": "#%%\n"
    }
   }
  },
  {
   "cell_type": "code",
   "execution_count": 8,
   "outputs": [],
   "source": [
    "dataset.to_csv('4H.csv')"
   ],
   "metadata": {
    "collapsed": false,
    "pycharm": {
     "name": "#%%\n"
    }
   }
  }
 ],
 "metadata": {
  "kernelspec": {
   "display_name": "Python 3",
   "language": "python",
   "name": "python3"
  },
  "language_info": {
   "codemirror_mode": {
    "name": "ipython",
    "version": 2
   },
   "file_extension": ".py",
   "mimetype": "text/x-python",
   "name": "python",
   "nbconvert_exporter": "python",
   "pygments_lexer": "ipython2",
   "version": "2.7.6"
  }
 },
 "nbformat": 4,
 "nbformat_minor": 0
}