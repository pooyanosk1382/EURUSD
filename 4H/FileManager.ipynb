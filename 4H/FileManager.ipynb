{
 "cells": [
  {
   "cell_type": "code",
   "execution_count": 22,
   "outputs": [],
   "source": [
    "import pandas as pd"
   ],
   "metadata": {
    "collapsed": false,
    "pycharm": {
     "name": "#%%\n"
    }
   }
  },
  {
   "cell_type": "code",
   "execution_count": 23,
   "outputs": [
    {
     "name": "stdout",
     "output_type": "stream",
     "text": [
      "28860\n",
      "          open     high      low       volume    close\n",
      "0      1.12354  1.12354  1.12166   95533.0976  1.12274\n",
      "1      1.12242  1.12276  1.12067   93778.5996  1.12126\n",
      "2      1.12139  1.12255  1.12030   90924.6992  1.12113\n",
      "3      1.12092  1.12331  1.12049   91254.6992  1.12174\n",
      "4      1.12194  1.12900  1.12130  308003.4083  1.12712\n",
      "...        ...      ...      ...          ...      ...\n",
      "28855  1.15940  1.16120  1.15938    5738.6300  1.16082\n",
      "28856  1.16082  1.16189  1.15995   13149.6600  1.16034\n",
      "28857  1.16033  1.16124  1.15892   14914.3300  1.15923\n",
      "28858  1.15923  1.16103  1.15893   20002.5300  1.15953\n",
      "28859  1.15952  1.16060  1.15933    5620.0500  1.16040\n",
      "\n",
      "[28860 rows x 5 columns]\n"
     ]
    }
   ],
   "source": [
    "dataset = pd.read_csv('EURUSD_ForexTrading_4hrs_05.05.2003_to_16.10.2021.csv')\n",
    "dataset = dataset.iloc[:, :]\n",
    "print(len(dataset))\n",
    "print(dataset)"
   ],
   "metadata": {
    "collapsed": false,
    "pycharm": {
     "name": "#%%\n"
    }
   }
  },
  {
   "cell_type": "code",
   "execution_count": 24,
   "outputs": [
    {
     "name": "stdout",
     "output_type": "stream",
     "text": [
      "       last open  last high  last low  last volume     open     high      low  \\\n",
      "0            NaN        NaN       NaN          NaN  1.12354  1.12354  1.12166   \n",
      "1        1.12354    1.12354   1.12166   95533.0976  1.12242  1.12276  1.12067   \n",
      "2        1.12242    1.12276   1.12067   93778.5996  1.12139  1.12255  1.12030   \n",
      "3        1.12139    1.12255   1.12030   90924.6992  1.12092  1.12331  1.12049   \n",
      "4        1.12092    1.12331   1.12049   91254.6992  1.12194  1.12900  1.12130   \n",
      "...          ...        ...       ...          ...      ...      ...      ...   \n",
      "28855    1.15979    1.16001   1.15882    3051.1500  1.15940  1.16120  1.15938   \n",
      "28856    1.15940    1.16120   1.15938    5738.6300  1.16082  1.16189  1.15995   \n",
      "28857    1.16082    1.16189   1.15995   13149.6600  1.16033  1.16124  1.15892   \n",
      "28858    1.16033    1.16124   1.15892   14914.3300  1.15923  1.16103  1.15893   \n",
      "28859    1.15923    1.16103   1.15893   20002.5300  1.15952  1.16060  1.15933   \n",
      "\n",
      "            volume    close  \n",
      "0       95533.0976  1.12274  \n",
      "1       93778.5996  1.12126  \n",
      "2       90924.6992  1.12113  \n",
      "3       91254.6992  1.12174  \n",
      "4      308003.4083  1.12712  \n",
      "...            ...      ...  \n",
      "28855    5738.6300  1.16082  \n",
      "28856   13149.6600  1.16034  \n",
      "28857   14914.3300  1.15923  \n",
      "28858   20002.5300  1.15953  \n",
      "28859    5620.0500  1.16040  \n",
      "\n",
      "[28860 rows x 9 columns]\n"
     ]
    }
   ],
   "source": [
    "addingOpen = [None]\n",
    "lastOpen = dataset.iloc[:28859, 0]\n",
    "addingHigh = [None]\n",
    "lastHigh = dataset.iloc[:28859, 1]\n",
    "addingLow = [None]\n",
    "lastLow = dataset.iloc[:28859, 2]\n",
    "addingVolume = [None]\n",
    "lastVolume = dataset.iloc[:28859, 3]\n",
    "for i in range(len(lastOpen)):\n",
    "    addingOpen.append(lastOpen[i])\n",
    "    addingHigh.append(lastHigh[i])\n",
    "    addingLow.append(lastLow[i])\n",
    "    addingVolume.append(lastVolume[i])\n",
    "dataset.insert(0, \"last volume\", addingVolume)\n",
    "dataset.insert(0, \"last low\", addingLow)\n",
    "dataset.insert(0, \"last high\", addingHigh)\n",
    "dataset.insert(0, \"last open\", addingOpen)\n",
    "print(dataset)"
   ],
   "metadata": {
    "collapsed": false,
    "pycharm": {
     "name": "#%%\n"
    }
   }
  },
  {
   "cell_type": "code",
   "execution_count": 25,
   "outputs": [
    {
     "name": "stdout",
     "output_type": "stream",
     "text": [
      "       last open10  last high10  last low10  last volume10  last open9  \\\n",
      "0              NaN          NaN         NaN            NaN         NaN   \n",
      "1              NaN          NaN         NaN            NaN         NaN   \n",
      "2              NaN          NaN         NaN            NaN         NaN   \n",
      "3              NaN          NaN         NaN            NaN         NaN   \n",
      "4              NaN          NaN         NaN            NaN         NaN   \n",
      "...            ...          ...         ...            ...         ...   \n",
      "28855      1.15528      1.15604     1.15457       11030.24     1.15564   \n",
      "28856      1.15564      1.15669     1.15363       18650.34     1.15430   \n",
      "28857      1.15430      1.15788     1.15405       23598.19     1.15781   \n",
      "28858      1.15781      1.15975     1.15780       11188.68     1.15961   \n",
      "28859      1.15961      1.16013     1.15925        4511.04     1.15992   \n",
      "\n",
      "       last high9  last low9  last volume9  last open8  last high8  ...  \\\n",
      "0             NaN        NaN           NaN         NaN         NaN  ...   \n",
      "1             NaN        NaN           NaN         NaN         NaN  ...   \n",
      "2             NaN        NaN           NaN         NaN         NaN  ...   \n",
      "3             NaN        NaN           NaN         NaN         NaN  ...   \n",
      "4             NaN        NaN           NaN         NaN         NaN  ...   \n",
      "...           ...        ...           ...         ...         ...  ...   \n",
      "28855     1.15669    1.15363      18650.34     1.15430     1.15788  ...   \n",
      "28856     1.15788    1.15405      23598.19     1.15781     1.15975  ...   \n",
      "28857     1.15975    1.15780      11188.68     1.15961     1.16013  ...   \n",
      "28858     1.16013    1.15925       4511.04     1.15992     1.16009  ...   \n",
      "28859     1.16009    1.15890       9698.85     1.15900     1.16191  ...   \n",
      "\n",
      "       last volume1  last open  last high  last low  last volume     open  \\\n",
      "0               NaN        NaN        NaN       NaN          NaN  1.12354   \n",
      "1               NaN    1.12354    1.12354   1.12166   95533.0976  1.12242   \n",
      "2        95533.0976    1.12242    1.12276   1.12067   93778.5996  1.12139   \n",
      "3        93778.5996    1.12139    1.12255   1.12030   90924.6992  1.12092   \n",
      "4        90924.6992    1.12092    1.12331   1.12049   91254.6992  1.12194   \n",
      "...             ...        ...        ...       ...          ...      ...   \n",
      "28855     4598.9400    1.15979    1.16001   1.15882    3051.1500  1.15940   \n",
      "28856     3051.1500    1.15940    1.16120   1.15938    5738.6300  1.16082   \n",
      "28857     5738.6300    1.16082    1.16189   1.15995   13149.6600  1.16033   \n",
      "28858    13149.6600    1.16033    1.16124   1.15892   14914.3300  1.15923   \n",
      "28859    14914.3300    1.15923    1.16103   1.15893   20002.5300  1.15952   \n",
      "\n",
      "          high      low       volume    close  \n",
      "0      1.12354  1.12166   95533.0976  1.12274  \n",
      "1      1.12276  1.12067   93778.5996  1.12126  \n",
      "2      1.12255  1.12030   90924.6992  1.12113  \n",
      "3      1.12331  1.12049   91254.6992  1.12174  \n",
      "4      1.12900  1.12130  308003.4083  1.12712  \n",
      "...        ...      ...          ...      ...  \n",
      "28855  1.16120  1.15938    5738.6300  1.16082  \n",
      "28856  1.16189  1.15995   13149.6600  1.16034  \n",
      "28857  1.16124  1.15892   14914.3300  1.15923  \n",
      "28858  1.16103  1.15893   20002.5300  1.15953  \n",
      "28859  1.16060  1.15933    5620.0500  1.16040  \n",
      "\n",
      "[28860 rows x 49 columns]\n"
     ]
    }
   ],
   "source": [
    "for j in range(10):\n",
    "    addingOpen = [None]\n",
    "    lastOpen = dataset.iloc[:28859, 0]\n",
    "    addingHigh = [None]\n",
    "    lastHigh = dataset.iloc[:28859, 1]\n",
    "    addingLow = [None]\n",
    "    lastLow = dataset.iloc[:28859, 2]\n",
    "    addingVolume = [None]\n",
    "    lastVolume = dataset.iloc[:28859, 3]\n",
    "    for i in range(len(lastOpen)):\n",
    "        addingOpen.append(lastOpen[i])\n",
    "        addingHigh.append(lastHigh[i])\n",
    "        addingLow.append(lastLow[i])\n",
    "        addingVolume.append(lastVolume[i])\n",
    "    dataset.insert(0, \"last volume\" + str(j+1), addingVolume)\n",
    "    dataset.insert(0, \"last low\" + str(j+1), addingLow)\n",
    "    dataset.insert(0, \"last high\" + str(j+1), addingHigh)\n",
    "    dataset.insert(0, \"last open\" + str(j+1), addingOpen)\n",
    "print(dataset)"
   ],
   "metadata": {
    "collapsed": false,
    "pycharm": {
     "name": "#%%\n"
    }
   }
  },
  {
   "cell_type": "code",
   "execution_count": 26,
   "outputs": [],
   "source": [
    "dataset.to_csv('NewDataset.csv')"
   ],
   "metadata": {
    "collapsed": false,
    "pycharm": {
     "name": "#%%\n"
    }
   }
  }
 ],
 "metadata": {
  "kernelspec": {
   "display_name": "Python 3",
   "language": "python",
   "name": "python3"
  },
  "language_info": {
   "codemirror_mode": {
    "name": "ipython",
    "version": 2
   },
   "file_extension": ".py",
   "mimetype": "text/x-python",
   "name": "python",
   "nbconvert_exporter": "python",
   "pygments_lexer": "ipython2",
   "version": "2.7.6"
  }
 },
 "nbformat": 4,
 "nbformat_minor": 0
}