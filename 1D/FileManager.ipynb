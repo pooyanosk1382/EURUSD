{
 "cells": [
  {
   "cell_type": "code",
   "execution_count": 6,
   "outputs": [],
   "source": [
    "import pandas as pd"
   ],
   "metadata": {
    "collapsed": false,
    "pycharm": {
     "name": "#%%\n"
    }
   }
  },
  {
   "cell_type": "code",
   "execution_count": 7,
   "outputs": [
    {
     "name": "stdout",
     "output_type": "stream",
     "text": [
      "5012\n",
      "         Open     High      Low    Close\n",
      "0     1.37854  1.38019  1.37603  1.37733\n",
      "1     1.37734  1.37974  1.37580  1.37935\n",
      "2     1.37932  1.38310  1.37565  1.38045\n",
      "3     1.38044  1.38284  1.37852  1.37968\n",
      "4     1.37955  1.38418  1.37777  1.38251\n",
      "...       ...      ...      ...      ...\n",
      "5007  1.12271  1.12487  1.12033  1.12373\n",
      "5008  1.12374  1.12756  1.12089  1.12281\n",
      "5009  1.12282  1.12400  1.11742  1.12049\n",
      "5010  1.12048  1.12291  1.11184  1.11344\n",
      "5011  1.11345  1.11449  1.11213  1.11282\n",
      "\n",
      "[5012 rows x 4 columns]\n"
     ]
    }
   ],
   "source": [
    "dataset = pd.read_table('EURUSD_D1.csv', delimiter='\\t')\n",
    "dataset = dataset.iloc[:, 1:-1]\n",
    "print(len(dataset))\n",
    "print(dataset)"
   ],
   "metadata": {
    "collapsed": false,
    "pycharm": {
     "name": "#%%\n"
    }
   }
  },
  {
   "cell_type": "code",
   "execution_count": 8,
   "outputs": [
    {
     "name": "stdout",
     "output_type": "stream",
     "text": [
      "      last open  last high  last low     Open     High      Low    Close\n",
      "0           NaN        NaN       NaN  1.37854  1.38019  1.37603  1.37733\n",
      "1       1.37854    1.38019   1.37603  1.37734  1.37974  1.37580  1.37935\n",
      "2       1.37734    1.37974   1.37580  1.37932  1.38310  1.37565  1.38045\n",
      "3       1.37932    1.38310   1.37565  1.38044  1.38284  1.37852  1.37968\n",
      "4       1.38044    1.38284   1.37852  1.37955  1.38418  1.37777  1.38251\n",
      "...         ...        ...       ...      ...      ...      ...      ...\n",
      "5007    1.12284    1.12340   1.12232  1.12271  1.12487  1.12033  1.12373\n",
      "5008    1.12271    1.12487   1.12033  1.12374  1.12756  1.12089  1.12281\n",
      "5009    1.12374    1.12756   1.12089  1.12282  1.12400  1.11742  1.12049\n",
      "5010    1.12282    1.12400   1.11742  1.12048  1.12291  1.11184  1.11344\n",
      "5011    1.12048    1.12291   1.11184  1.11345  1.11449  1.11213  1.11282\n",
      "\n",
      "[5012 rows x 7 columns]\n"
     ]
    }
   ],
   "source": [
    "addingOpen = [None]\n",
    "lastOpen = dataset.iloc[:5011, 0]\n",
    "addingHigh = [None]\n",
    "lastHigh = dataset.iloc[:5011, 1]\n",
    "addingLow = [None]\n",
    "lastLow = dataset.iloc[:5011, 2]\n",
    "for i in range(len(lastOpen)):\n",
    "    addingOpen.append(lastOpen[i])\n",
    "    addingHigh.append(lastHigh[i])\n",
    "    addingLow.append(lastLow[i])\n",
    "dataset.insert(0, \"last low\", addingLow)\n",
    "dataset.insert(0, \"last high\", addingHigh)\n",
    "dataset.insert(0, \"last open\", addingOpen)\n",
    "print(dataset)"
   ],
   "metadata": {
    "collapsed": false,
    "pycharm": {
     "name": "#%%\n"
    }
   }
  },
  {
   "cell_type": "code",
   "execution_count": 9,
   "outputs": [
    {
     "name": "stdout",
     "output_type": "stream",
     "text": [
      "      last open21  last high21  last low21  last open20  last high20  \\\n",
      "0             NaN          NaN         NaN          NaN          NaN   \n",
      "1             NaN          NaN         NaN          NaN          NaN   \n",
      "2             NaN          NaN         NaN          NaN          NaN   \n",
      "3             NaN          NaN         NaN          NaN          NaN   \n",
      "4             NaN          NaN         NaN          NaN          NaN   \n",
      "...           ...          ...         ...          ...          ...   \n",
      "5007      1.09197      1.09923     1.09058      1.09916      1.10122   \n",
      "5008      1.09916      1.10122     1.09485      1.09555      1.09585   \n",
      "5009      1.09555      1.09585     1.08443      1.09042      1.09070   \n",
      "5010      1.09042      1.09070     1.08978      1.09064      1.09200   \n",
      "5011      1.09064      1.09200     1.08873      1.09097      1.09766   \n",
      "\n",
      "      last low20  last open19  last high19  last low19  last open18  ...  \\\n",
      "0            NaN          NaN          NaN         NaN          NaN  ...   \n",
      "1            NaN          NaN          NaN         NaN          NaN  ...   \n",
      "2            NaN          NaN          NaN         NaN          NaN  ...   \n",
      "3            NaN          NaN          NaN         NaN          NaN  ...   \n",
      "4            NaN          NaN          NaN         NaN          NaN  ...   \n",
      "...          ...          ...          ...         ...          ...  ...   \n",
      "5007     1.09485      1.09555      1.09585     1.08443      1.09042  ...   \n",
      "5008     1.08443      1.09042      1.09070     1.08978      1.09064  ...   \n",
      "5009     1.08978      1.09064      1.09200     1.08873      1.09097  ...   \n",
      "5010     1.08873      1.09097      1.09766     1.09021      1.09574  ...   \n",
      "5011     1.09021      1.09574      1.09621     1.08968      1.09151  ...   \n",
      "\n",
      "      last open1  last high1  last low1  last open  last high  last low  \\\n",
      "0            NaN         NaN        NaN        NaN        NaN       NaN   \n",
      "1            NaN         NaN        NaN    1.37854    1.38019   1.37603   \n",
      "2        1.37854     1.38019    1.37603    1.37734    1.37974   1.37580   \n",
      "3        1.37734     1.37974    1.37580    1.37932    1.38310   1.37565   \n",
      "4        1.37932     1.38310    1.37565    1.38044    1.38284   1.37852   \n",
      "...          ...         ...        ...        ...        ...       ...   \n",
      "5007     1.12235     1.12448    1.12041    1.12284    1.12340   1.12232   \n",
      "5008     1.12284     1.12340    1.12232    1.12271    1.12487   1.12033   \n",
      "5009     1.12271     1.12487    1.12033    1.12374    1.12756   1.12089   \n",
      "5010     1.12374     1.12756    1.12089    1.12282    1.12400   1.11742   \n",
      "5011     1.12282     1.12400    1.11742    1.12048    1.12291   1.11184   \n",
      "\n",
      "         Open     High      Low    Close  \n",
      "0     1.37854  1.38019  1.37603  1.37733  \n",
      "1     1.37734  1.37974  1.37580  1.37935  \n",
      "2     1.37932  1.38310  1.37565  1.38045  \n",
      "3     1.38044  1.38284  1.37852  1.37968  \n",
      "4     1.37955  1.38418  1.37777  1.38251  \n",
      "...       ...      ...      ...      ...  \n",
      "5007  1.12271  1.12487  1.12033  1.12373  \n",
      "5008  1.12374  1.12756  1.12089  1.12281  \n",
      "5009  1.12282  1.12400  1.11742  1.12049  \n",
      "5010  1.12048  1.12291  1.11184  1.11344  \n",
      "5011  1.11345  1.11449  1.11213  1.11282  \n",
      "\n",
      "[5012 rows x 70 columns]\n"
     ]
    }
   ],
   "source": [
    "for j in range(21):\n",
    "    addingOpen = [None]\n",
    "    lastOpen = dataset.iloc[:5011, 0]\n",
    "    addingHigh = [None]\n",
    "    lastHigh = dataset.iloc[:5011, 1]\n",
    "    addingLow = [None]\n",
    "    lastLow = dataset.iloc[:5011, 2]\n",
    "    for i in range(len(lastOpen)):\n",
    "        addingOpen.append(lastOpen[i])\n",
    "        addingHigh.append(lastHigh[i])\n",
    "        addingLow.append(lastLow[i])\n",
    "    dataset.insert(0, \"last low\" + str(j+1), addingLow)\n",
    "    dataset.insert(0, \"last high\" + str(j+1), addingHigh)\n",
    "    dataset.insert(0, \"last open\" + str(j+1), addingOpen)\n",
    "print(dataset)"
   ],
   "metadata": {
    "collapsed": false,
    "pycharm": {
     "name": "#%%\n"
    }
   }
  },
  {
   "cell_type": "code",
   "execution_count": 10,
   "outputs": [],
   "source": [
    "dataset.to_csv('1D.csv')"
   ],
   "metadata": {
    "collapsed": false,
    "pycharm": {
     "name": "#%%\n"
    }
   }
  }
 ],
 "metadata": {
  "kernelspec": {
   "display_name": "Python 3",
   "language": "python",
   "name": "python3"
  },
  "language_info": {
   "codemirror_mode": {
    "name": "ipython",
    "version": 2
   },
   "file_extension": ".py",
   "mimetype": "text/x-python",
   "name": "python",
   "nbconvert_exporter": "python",
   "pygments_lexer": "ipython2",
   "version": "2.7.6"
  }
 },
 "nbformat": 4,
 "nbformat_minor": 0
}