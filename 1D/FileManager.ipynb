{
 "cells": [
  {
   "cell_type": "code",
   "execution_count": 32,
   "outputs": [],
   "source": [
    "import pandas as pd"
   ],
   "metadata": {
    "collapsed": false,
    "pycharm": {
     "name": "#%%\n"
    }
   }
  },
  {
   "cell_type": "code",
   "execution_count": 33,
   "outputs": [
    {
     "name": "stdout",
     "output_type": "stream",
     "text": [
      "5012\n",
      "         Open     High      Low    Close\n",
      "0     1.37854  1.38019  1.37603  1.37733\n",
      "1     1.37734  1.37974  1.37580  1.37935\n",
      "2     1.37932  1.38310  1.37565  1.38045\n",
      "3     1.38044  1.38284  1.37852  1.37968\n",
      "4     1.37955  1.38418  1.37777  1.38251\n",
      "...       ...      ...      ...      ...\n",
      "5007  1.12271  1.12487  1.12033  1.12373\n",
      "5008  1.12374  1.12756  1.12089  1.12281\n",
      "5009  1.12282  1.12400  1.11742  1.12049\n",
      "5010  1.12048  1.12291  1.11184  1.11344\n",
      "5011  1.11345  1.11449  1.11213  1.11282\n",
      "\n",
      "[5012 rows x 4 columns]\n"
     ]
    }
   ],
   "source": [
    "dataset = pd.read_table('EURUSD_D1.csv', delimiter='\\t')\n",
    "dataset = dataset.iloc[:, 1:-1]\n",
    "print(len(dataset))\n",
    "print(dataset)"
   ],
   "metadata": {
    "collapsed": false,
    "pycharm": {
     "name": "#%%\n"
    }
   }
  },
  {
   "cell_type": "code",
   "execution_count": 34,
   "outputs": [
    {
     "name": "stdout",
     "output_type": "stream",
     "text": [
      "      last open  last high  last low     Open     High      Low    Close\n",
      "0           NaN        NaN       NaN  1.37854  1.38019  1.37603  1.37733\n",
      "1       1.37854    1.38019   1.37603  1.37734  1.37974  1.37580  1.37935\n",
      "2       1.37734    1.37974   1.37580  1.37932  1.38310  1.37565  1.38045\n",
      "3       1.37932    1.38310   1.37565  1.38044  1.38284  1.37852  1.37968\n",
      "4       1.38044    1.38284   1.37852  1.37955  1.38418  1.37777  1.38251\n",
      "...         ...        ...       ...      ...      ...      ...      ...\n",
      "5007    1.12284    1.12340   1.12232  1.12271  1.12487  1.12033  1.12373\n",
      "5008    1.12271    1.12487   1.12033  1.12374  1.12756  1.12089  1.12281\n",
      "5009    1.12374    1.12756   1.12089  1.12282  1.12400  1.11742  1.12049\n",
      "5010    1.12282    1.12400   1.11742  1.12048  1.12291  1.11184  1.11344\n",
      "5011    1.12048    1.12291   1.11184  1.11345  1.11449  1.11213  1.11282\n",
      "\n",
      "[5012 rows x 7 columns]\n"
     ]
    }
   ],
   "source": [
    "addingOpen = [None]\n",
    "lastOpen = dataset.iloc[:5011, 0]\n",
    "addingHigh = [None]\n",
    "lastHigh = dataset.iloc[:5011, 1]\n",
    "addingLow = [None]\n",
    "lastLow = dataset.iloc[:5011, 2]\n",
    "for i in range(len(lastOpen)):\n",
    "    addingOpen.append(lastOpen[i])\n",
    "    addingHigh.append(lastHigh[i])\n",
    "    addingLow.append(lastLow[i])\n",
    "dataset.insert(0, \"last low\", addingLow)\n",
    "dataset.insert(0, \"last high\", addingHigh)\n",
    "dataset.insert(0, \"last open\", addingOpen)\n",
    "print(dataset)"
   ],
   "metadata": {
    "collapsed": false,
    "pycharm": {
     "name": "#%%\n"
    }
   }
  },
  {
   "cell_type": "code",
   "execution_count": 35,
   "outputs": [
    {
     "name": "stdout",
     "output_type": "stream",
     "text": [
      "      last open10  last high10  last low10  last open9  last high9  last low9  \\\n",
      "0             NaN          NaN         NaN         NaN         NaN        NaN   \n",
      "1             NaN          NaN         NaN         NaN         NaN        NaN   \n",
      "2             NaN          NaN         NaN         NaN         NaN        NaN   \n",
      "3             NaN          NaN         NaN         NaN         NaN        NaN   \n",
      "4             NaN          NaN         NaN         NaN         NaN        NaN   \n",
      "...           ...          ...         ...         ...         ...        ...   \n",
      "5007      1.09127      1.09163     1.08768     1.08827     1.09078    1.08509   \n",
      "5008      1.08827      1.09078     1.08509     1.08554     1.09006    1.08337   \n",
      "5009      1.08554      1.09006     1.08337     1.08895     1.09731    1.08669   \n",
      "5010      1.08895      1.09731     1.08669     1.09593     1.09697    1.09563   \n",
      "5011      1.09593      1.09697     1.09563     1.09670     1.10058    1.09434   \n",
      "\n",
      "      last open8  last high8  last low8  last open7  ...  last open1  \\\n",
      "0            NaN         NaN        NaN         NaN  ...         NaN   \n",
      "1            NaN         NaN        NaN         NaN  ...         NaN   \n",
      "2            NaN         NaN        NaN         NaN  ...     1.37854   \n",
      "3            NaN         NaN        NaN         NaN  ...     1.37734   \n",
      "4            NaN         NaN        NaN         NaN  ...     1.37932   \n",
      "...          ...         ...        ...         ...  ...         ...   \n",
      "5007     1.08554     1.09006    1.08337     1.08895  ...     1.12235   \n",
      "5008     1.08895     1.09731    1.08669     1.09593  ...     1.12284   \n",
      "5009     1.09593     1.09697    1.09563     1.09670  ...     1.12271   \n",
      "5010     1.09670     1.10058    1.09434     1.10053  ...     1.12374   \n",
      "5011     1.10053     1.10269    1.09768     1.10137  ...     1.12282   \n",
      "\n",
      "      last high1  last low1  last open  last high  last low     Open     High  \\\n",
      "0            NaN        NaN        NaN        NaN       NaN  1.37854  1.38019   \n",
      "1            NaN        NaN    1.37854    1.38019   1.37603  1.37734  1.37974   \n",
      "2        1.38019    1.37603    1.37734    1.37974   1.37580  1.37932  1.38310   \n",
      "3        1.37974    1.37580    1.37932    1.38310   1.37565  1.38044  1.38284   \n",
      "4        1.38310    1.37565    1.38044    1.38284   1.37852  1.37955  1.38418   \n",
      "...          ...        ...        ...        ...       ...      ...      ...   \n",
      "5007     1.12448    1.12041    1.12284    1.12340   1.12232  1.12271  1.12487   \n",
      "5008     1.12340    1.12232    1.12271    1.12487   1.12033  1.12374  1.12756   \n",
      "5009     1.12487    1.12033    1.12374    1.12756   1.12089  1.12282  1.12400   \n",
      "5010     1.12756    1.12089    1.12282    1.12400   1.11742  1.12048  1.12291   \n",
      "5011     1.12400    1.11742    1.12048    1.12291   1.11184  1.11345  1.11449   \n",
      "\n",
      "          Low    Close  \n",
      "0     1.37603  1.37733  \n",
      "1     1.37580  1.37935  \n",
      "2     1.37565  1.38045  \n",
      "3     1.37852  1.37968  \n",
      "4     1.37777  1.38251  \n",
      "...       ...      ...  \n",
      "5007  1.12033  1.12373  \n",
      "5008  1.12089  1.12281  \n",
      "5009  1.11742  1.12049  \n",
      "5010  1.11184  1.11344  \n",
      "5011  1.11213  1.11282  \n",
      "\n",
      "[5012 rows x 37 columns]\n"
     ]
    }
   ],
   "source": [
    "for j in range(10):\n",
    "    addingOpen = [None]\n",
    "    lastOpen = dataset.iloc[:5011, 0]\n",
    "    addingHigh = [None]\n",
    "    lastHigh = dataset.iloc[:5011, 1]\n",
    "    addingLow = [None]\n",
    "    lastLow = dataset.iloc[:5011, 2]\n",
    "    for i in range(len(lastOpen)):\n",
    "        addingOpen.append(lastOpen[i])\n",
    "        addingHigh.append(lastHigh[i])\n",
    "        addingLow.append(lastLow[i])\n",
    "    dataset.insert(0, \"last low\" + str(j+1), addingLow)\n",
    "    dataset.insert(0, \"last high\" + str(j+1), addingHigh)\n",
    "    dataset.insert(0, \"last open\" + str(j+1), addingOpen)\n",
    "print(dataset)"
   ],
   "metadata": {
    "collapsed": false,
    "pycharm": {
     "name": "#%%\n"
    }
   }
  },
  {
   "cell_type": "code",
   "execution_count": 36,
   "outputs": [],
   "source": [
    "dataset.to_csv('1D.csv')"
   ],
   "metadata": {
    "collapsed": false,
    "pycharm": {
     "name": "#%%\n"
    }
   }
  }
 ],
 "metadata": {
  "kernelspec": {
   "display_name": "Python 3",
   "language": "python",
   "name": "python3"
  },
  "language_info": {
   "codemirror_mode": {
    "name": "ipython",
    "version": 2
   },
   "file_extension": ".py",
   "mimetype": "text/x-python",
   "name": "python",
   "nbconvert_exporter": "python",
   "pygments_lexer": "ipython2",
   "version": "2.7.6"
  }
 },
 "nbformat": 4,
 "nbformat_minor": 0
}