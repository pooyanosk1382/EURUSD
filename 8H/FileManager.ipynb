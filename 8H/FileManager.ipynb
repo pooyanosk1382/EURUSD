{
 "cells": [
  {
   "cell_type": "code",
   "execution_count": 1,
   "outputs": [],
   "source": [
    "import pandas as pd"
   ],
   "metadata": {
    "collapsed": false,
    "pycharm": {
     "name": "#%%\n"
    }
   }
  },
  {
   "cell_type": "code",
   "execution_count": 2,
   "outputs": [
    {
     "name": "stdout",
     "output_type": "stream",
     "text": [
      "18357\n",
      "        <OPEN>   <HIGH>    <LOW>  <CLOSE>\n",
      "0      1.00730  1.01900  1.00730  1.01570\n",
      "1      1.01540  1.01670  1.00540  1.00730\n",
      "2      1.00770  1.02780  1.00700  1.02460\n",
      "3      1.02430  1.02660  1.02270  1.02410\n",
      "4      1.02340  1.03360  1.02130  1.03260\n",
      "...        ...      ...      ...      ...\n",
      "18352  1.12214  1.12232  1.11772  1.11827\n",
      "18353  1.11826  1.11886  1.11185  1.11290\n",
      "18354  1.11291  1.11417  1.11234  1.11396\n",
      "18355  1.11396  1.11449  1.11173  1.11284\n",
      "18356  1.11284  1.11381  1.11080  1.11246\n",
      "\n",
      "[18357 rows x 4 columns]\n"
     ]
    }
   ],
   "source": [
    "dataset = pd.read_table('EURUSD_H8_200001030000_202307211600.csv', delimiter='\\t')\n",
    "dataset = dataset.iloc[:, 2:6]\n",
    "print(len(dataset))\n",
    "print(dataset)"
   ],
   "metadata": {
    "collapsed": false,
    "pycharm": {
     "name": "#%%\n"
    }
   }
  },
  {
   "cell_type": "code",
   "execution_count": 3,
   "outputs": [
    {
     "name": "stdout",
     "output_type": "stream",
     "text": [
      "       last open  last high  last low   <OPEN>   <HIGH>    <LOW>  <CLOSE>\n",
      "0            NaN        NaN       NaN  1.00730  1.01900  1.00730  1.01570\n",
      "1        1.00730    1.01900   1.00730  1.01540  1.01670  1.00540  1.00730\n",
      "2        1.01540    1.01670   1.00540  1.00770  1.02780  1.00700  1.02460\n",
      "3        1.00770    1.02780   1.00700  1.02430  1.02660  1.02270  1.02410\n",
      "4        1.02430    1.02660   1.02270  1.02340  1.03360  1.02130  1.03260\n",
      "...          ...        ...       ...      ...      ...      ...      ...\n",
      "18352    1.11991    1.12290   1.11941  1.12214  1.12232  1.11772  1.11827\n",
      "18353    1.12214    1.12232   1.11772  1.11826  1.11886  1.11185  1.11290\n",
      "18354    1.11826    1.11886   1.11185  1.11291  1.11417  1.11234  1.11396\n",
      "18355    1.11291    1.11417   1.11234  1.11396  1.11449  1.11173  1.11284\n",
      "18356    1.11396    1.11449   1.11173  1.11284  1.11381  1.11080  1.11246\n",
      "\n",
      "[18357 rows x 7 columns]\n"
     ]
    }
   ],
   "source": [
    "addingOpen = [None]\n",
    "lastOpen = dataset.iloc[:18356, 0]\n",
    "addingHigh = [None]\n",
    "lastHigh = dataset.iloc[:18356, 1]\n",
    "addingLow = [None]\n",
    "lastLow = dataset.iloc[:18356, 2]\n",
    "for i in range(len(lastOpen)):\n",
    "    addingOpen.append(lastOpen[i])\n",
    "    addingHigh.append(lastHigh[i])\n",
    "    addingLow.append(lastLow[i])\n",
    "dataset.insert(0, \"last low\", addingLow)\n",
    "dataset.insert(0, \"last high\", addingHigh)\n",
    "dataset.insert(0, \"last open\", addingOpen)\n",
    "print(dataset)"
   ],
   "metadata": {
    "collapsed": false,
    "pycharm": {
     "name": "#%%\n"
    }
   }
  },
  {
   "cell_type": "code",
   "execution_count": 4,
   "outputs": [
    {
     "name": "stdout",
     "output_type": "stream",
     "text": [
      "       last open10  last high10  last low10  last open9  last high9  \\\n",
      "0              NaN          NaN         NaN         NaN         NaN   \n",
      "1              NaN          NaN         NaN         NaN         NaN   \n",
      "2              NaN          NaN         NaN         NaN         NaN   \n",
      "3              NaN          NaN         NaN         NaN         NaN   \n",
      "4              NaN          NaN         NaN         NaN         NaN   \n",
      "...            ...          ...         ...         ...         ...   \n",
      "18352      1.12258      1.12444     1.12150     1.12288     1.12345   \n",
      "18353      1.12288      1.12345     1.12145     1.12270     1.12488   \n",
      "18354      1.12270      1.12488     1.12209     1.12356     1.12461   \n",
      "18355      1.12356      1.12461     1.12033     1.12314     1.12564   \n",
      "18356      1.12314      1.12564     1.12308     1.12518     1.12758   \n",
      "\n",
      "       last low9  last open8  last high8  last low8  last open7  ...  \\\n",
      "0            NaN         NaN         NaN        NaN         NaN  ...   \n",
      "1            NaN         NaN         NaN        NaN         NaN  ...   \n",
      "2            NaN         NaN         NaN        NaN         NaN  ...   \n",
      "3            NaN         NaN         NaN        NaN         NaN  ...   \n",
      "4            NaN         NaN         NaN        NaN         NaN  ...   \n",
      "...          ...         ...         ...        ...         ...  ...   \n",
      "18352    1.12145     1.12270     1.12488    1.12209     1.12356  ...   \n",
      "18353    1.12209     1.12356     1.12461    1.12033     1.12314  ...   \n",
      "18354    1.12033     1.12314     1.12564    1.12308     1.12518  ...   \n",
      "18355    1.12308     1.12518     1.12758    1.12231     1.12398  ...   \n",
      "18356    1.12231     1.12398     1.12460    1.12089     1.12263  ...   \n",
      "\n",
      "       last open1  last high1  last low1  last open  last high  last low  \\\n",
      "0             NaN         NaN        NaN        NaN        NaN       NaN   \n",
      "1             NaN         NaN        NaN    1.00730    1.01900   1.00730   \n",
      "2         1.00730     1.01900    1.00730    1.01540    1.01670   1.00540   \n",
      "3         1.01540     1.01670    1.00540    1.00770    1.02780   1.00700   \n",
      "4         1.00770     1.02780    1.00700    1.02430    1.02660   1.02270   \n",
      "...           ...         ...        ...        ...        ...       ...   \n",
      "18352     1.12171     1.12247    1.11744    1.11991    1.12290   1.11941   \n",
      "18353     1.11991     1.12290    1.11941    1.12214    1.12232   1.11772   \n",
      "18354     1.12214     1.12232    1.11772    1.11826    1.11886   1.11185   \n",
      "18355     1.11826     1.11886    1.11185    1.11291    1.11417   1.11234   \n",
      "18356     1.11291     1.11417    1.11234    1.11396    1.11449   1.11173   \n",
      "\n",
      "        <OPEN>   <HIGH>    <LOW>  <CLOSE>  \n",
      "0      1.00730  1.01900  1.00730  1.01570  \n",
      "1      1.01540  1.01670  1.00540  1.00730  \n",
      "2      1.00770  1.02780  1.00700  1.02460  \n",
      "3      1.02430  1.02660  1.02270  1.02410  \n",
      "4      1.02340  1.03360  1.02130  1.03260  \n",
      "...        ...      ...      ...      ...  \n",
      "18352  1.12214  1.12232  1.11772  1.11827  \n",
      "18353  1.11826  1.11886  1.11185  1.11290  \n",
      "18354  1.11291  1.11417  1.11234  1.11396  \n",
      "18355  1.11396  1.11449  1.11173  1.11284  \n",
      "18356  1.11284  1.11381  1.11080  1.11246  \n",
      "\n",
      "[18357 rows x 37 columns]\n"
     ]
    }
   ],
   "source": [
    "for j in range(10):\n",
    "    addingOpen = [None]\n",
    "    lastOpen = dataset.iloc[:18356, 0]\n",
    "    addingHigh = [None]\n",
    "    lastHigh = dataset.iloc[:18356, 1]\n",
    "    addingLow = [None]\n",
    "    lastLow = dataset.iloc[:18356, 2]\n",
    "    for i in range(len(lastOpen)):\n",
    "        addingOpen.append(lastOpen[i])\n",
    "        addingHigh.append(lastHigh[i])\n",
    "        addingLow.append(lastLow[i])\n",
    "    dataset.insert(0, \"last low\" + str(j+1), addingLow)\n",
    "    dataset.insert(0, \"last high\" + str(j+1), addingHigh)\n",
    "    dataset.insert(0, \"last open\" + str(j+1), addingOpen)\n",
    "print(dataset)"
   ],
   "metadata": {
    "collapsed": false,
    "pycharm": {
     "name": "#%%\n"
    }
   }
  },
  {
   "cell_type": "code",
   "execution_count": 5,
   "outputs": [],
   "source": [
    "dataset.to_csv('8H.csv')"
   ],
   "metadata": {
    "collapsed": false,
    "pycharm": {
     "name": "#%%\n"
    }
   }
  }
 ],
 "metadata": {
  "kernelspec": {
   "display_name": "Python 3",
   "language": "python",
   "name": "python3"
  },
  "language_info": {
   "codemirror_mode": {
    "name": "ipython",
    "version": 2
   },
   "file_extension": ".py",
   "mimetype": "text/x-python",
   "name": "python",
   "nbconvert_exporter": "python",
   "pygments_lexer": "ipython2",
   "version": "2.7.6"
  }
 },
 "nbformat": 4,
 "nbformat_minor": 0
}